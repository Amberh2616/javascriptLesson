{
 "cells": [
  {
   "cell_type": "code",
   "execution_count": null,
   "metadata": {
    "dotnet_interactive": {
     "language": "javascript"
    },
    "polyglot_notebook": {
     "kernelName": "javascript"
    },
    "vscode": {
     "languageId": "polyglot-notebook"
    }
   },
   "outputs": [],
   "source": [
    "{\n",
    "    \"cells\": [\n",
    "     {\n",
    "      \"cell_type\": \"code\",\n",
    "      \"execution_count\": 4,\n",
    "      \"metadata\": {\n",
    "       \"dotnet_interactive\": {\n",
    "        \"language\": \"javascript\"\n",
    "       },\n",
    "       \"polyglot_notebook\": {\n",
    "        \"kernelName\": \"javascript\"\n",
    "       },\n",
    "       \"vscode\": {\n",
    "        \"languageId\": \"polyglot-notebook\"\n",
    "       }\n",
    "      },\n",
    "      \"outputs\": [\n",
    "       {\n",
    "        \"data\": {\n",
    "         \"text/plain\": [\n",
    "          \"我的姓名是:Molly,我的age是27\"\n",
    "         ]\n",
    "        },\n",
    "        \"metadata\": {},\n",
    "        \"output_type\": \"display_data\"\n",
    "       }\n",
    "      ],\n",
    "      \"source\": [\n",
    "       \"//使用+運算子產生一個字串\\n\",\n",
    "       \"let name = 'Molly';\\n\",\n",
    "       \"let age = 27;\\n\",\n",
    "       \"console.log(\\\"我的姓名是:\\\" + name + \\\",我的age是\\\" + age)\"\n",
    "      ]\n",
    "     },\n",
    "     {\n",
    "      \"cell_type\": \"code\",\n",
    "      \"execution_count\": 6,\n",
    "      \"metadata\": {\n",
    "       \"dotnet_interactive\": {\n",
    "        \"language\": \"javascript\"\n",
    "       },\n",
    "       \"polyglot_notebook\": {\n",
    "        \"kernelName\": \"javascript\"\n",
    "       },\n",
    "       \"vscode\": {\n",
    "        \"languageId\": \"polyglot-notebook\"\n",
    "       }\n",
    "      },\n",
    "      \"outputs\": [\n",
    "       {\n",
    "        \"data\": {\n",
    "         \"text/plain\": [\n",
    "          \"我的姓名是Molly,我的age是27\"\n",
    "         ]\n",
    "        },\n",
    "        \"metadata\": {},\n",
    "        \"output_type\": \"display_data\"\n",
    "       }\n",
    "      ],\n",
    "      \"source\": [\n",
    "       \"//使用字串插補產生一個字串\\n\",\n",
    "       \"let name = 'Molly';\\n\",\n",
    "       \"let age = 27;\\n\",\n",
    "       \"console.log(`我的姓名是${name},我的age是${age}`)\\n\"\n",
    "      ]\n",
    "     }\n",
    "    ],\n",
    "    \"metadata\": {\n",
    "     \"language_info\": {\n",
    "      \"name\": \"python\"\n",
    "     },\n",
    "     \"orig_nbformat\": 4\n",
    "    },\n",
    "    \"nbformat\": 4,\n",
    "    \"nbformat_minor\": 2\n",
    "   }"
   ]
  }
 ],
 "metadata": {
  "language_info": {
   "name": "python"
  },
  "orig_nbformat": 4
 },
 "nbformat": 4,
 "nbformat_minor": 2
}

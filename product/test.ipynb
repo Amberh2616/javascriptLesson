{
 "cells": [
  {
   "cell_type": "code",
   "execution_count": null,
   "metadata": {},
   "outputs": [],
   "source": [
    "const re = /ab+c/g\n",
    "const re1 = new RegExp(\"ab+c\")\n",
    "console.log(re)\n",
    "console.log(re1)"
   ]
  },
  {
   "cell_type": "code",
   "execution_count": null,
   "metadata": {
    "vscode": {
     "languageId": "polyglot-notebook"
    }
   },
   "outputs": [],
   "source": [
    "\n",
    "const myReg = /d(b+)d/g\n",
    "const myArray = myReg.exec(\"cdbbdbsbz\")\n",
    "console.log(myArray)"
   ]
  },
  {
   "cell_type": "code",
   "execution_count": null,
   "metadata": {
    "vscode": {
     "languageId": "polyglot-notebook"
    }
   },
   "outputs": [],
   "source": [
    "\n",
    "const codePatternReg = /\\w\\w\\w-\\w\\w\\w-\\w\\w\\w/g\n",
    "console.log(codePatternReg.test(\"33-333-333\"))"
   ]
  },
  {
   "cell_type": "code",
   "execution_count": null,
   "metadata": {
    "vscode": {
     "languageId": "polyglot-notebook"
    }
   },
   "outputs": [],
   "source": [
    "\n",
    "console.log(Date.now())"
   ]
  },
  {
   "cell_type": "code",
   "execution_count": null,
   "metadata": {
    "vscode": {
     "languageId": "polyglot-notebook"
    }
   },
   "outputs": [],
   "source": [
    "\n",
    "let current = new Date()\n",
    "let year = current.getFullYear()\n",
    "let month = current.getMonth()+1\n",
    "let date = current.getDate()\n",
    "\n",
    "\n",
    "let month_string = String(month).padStart(2,\"0\")\n",
    "let date_string = String(date).padStart(2,\"0\")\n",
    "let current_date_string = `\n",
    "{month_string}-${date_string}`\n",
    "console.log(current_date_string)"
   ]
  }
 ],
 "metadata": {
  "language_info": {
   "name": "python"
  },
  "orig_nbformat": 4
 },
 "nbformat": 4,
 "nbformat_minor": 2
}
